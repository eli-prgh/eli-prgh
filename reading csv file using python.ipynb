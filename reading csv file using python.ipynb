{
 "cells": [
  {
   "cell_type": "code",
   "execution_count": 12,
   "metadata": {},
   "outputs": [
    {
     "name": "stdout",
     "output_type": "stream",
     "text": [
      "                                    {\n",
      "0                           \"info\": {\n",
      "1       \"type\": \"StatCrunch Session\",\n",
      "2                       \"version\": 1,\n",
      "3         \"date\": \"2018-07-21 14:55\",\n",
      "4          \"user\": \"Gerard+Willemsen\"\n",
      "..                                ...\n",
      "62          \"dividers_percent\": true,\n",
      "63                   \"stack_order\": 2\n",
      "64                                  }\n",
      "65                                  ]\n",
      "66                                  }\n",
      "\n",
      "[67 rows x 1 columns]\n"
     ]
    }
   ],
   "source": [
    "import pandas as pd\n",
    "\n",
    "# Specify the path to your CSV file\n",
    "csv_file_path = r'C:\\Users\\Documents\\saxion\\tbl2.2_P32.scs'\n",
    "\n",
    "# Read the CSV file with a semicolon delimiter\n",
    "try:\n",
    "    data = pd.read_csv(csv_file_path, delimiter=';')  # Adjust the delimiter as necessary\n",
    "    print(data)\n",
    "except FileNotFoundError:\n",
    "    print(\"The file was not found. Please check the file path.\")\n",
    "except pd.errors.EmptyDataError:\n",
    "    print(\"The file is empty. Please check the file content.\")\n",
    "except pd.errors.ParserError as e:\n",
    "    print(f\"Error parsing the file: {e}\")\n",
    "except Exception as e:\n",
    "    print(f\"An error occurred: {e}\")\n",
    "\n"
   ]
  }
 ],
 "metadata": {
  "kernelspec": {
   "display_name": "env1",
   "language": "python",
   "name": "python3"
  },
  "language_info": {
   "codemirror_mode": {
    "name": "ipython",
    "version": 3
   },
   "file_extension": ".py",
   "mimetype": "text/x-python",
   "name": "python",
   "nbconvert_exporter": "python",
   "pygments_lexer": "ipython3",
   "version": "3.12.5"
  }
 },
 "nbformat": 4,
 "nbformat_minor": 2
}
